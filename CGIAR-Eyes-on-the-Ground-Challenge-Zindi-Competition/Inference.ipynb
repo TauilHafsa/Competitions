{
 "cells": [
  {
   "cell_type": "code",
   "execution_count": 1,
   "id": "33727f6e",
   "metadata": {
    "_cell_guid": "b1076dfc-b9ad-4769-8c92-a6c4dae69d19",
    "_uuid": "8f2839f25d086af736a60e9eeb907d3b93b6e0e5",
    "execution": {
     "iopub.execute_input": "2023-11-01T18:43:53.938791Z",
     "iopub.status.busy": "2023-11-01T18:43:53.938043Z",
     "iopub.status.idle": "2023-11-01T18:44:14.242257Z",
     "shell.execute_reply": "2023-11-01T18:44:14.241398Z"
    },
    "papermill": {
     "duration": 20.312935,
     "end_time": "2023-11-01T18:44:14.244530",
     "exception": false,
     "start_time": "2023-11-01T18:43:53.931595",
     "status": "completed"
    },
    "tags": []
   },
   "outputs": [
    {
     "name": "stdout",
     "output_type": "stream",
     "text": [
      "Collecting efficientnet_pytorch\r\n",
      "  Downloading efficientnet_pytorch-0.7.1.tar.gz (21 kB)\r\n",
      "  Preparing metadata (setup.py) ... \u001b[?25ldone\r\n",
      "\u001b[?25hRequirement already satisfied: torch in /opt/conda/lib/python3.10/site-packages (from efficientnet_pytorch) (2.0.0)\r\n",
      "Requirement already satisfied: filelock in /opt/conda/lib/python3.10/site-packages (from torch->efficientnet_pytorch) (3.12.2)\r\n",
      "Requirement already satisfied: typing-extensions in /opt/conda/lib/python3.10/site-packages (from torch->efficientnet_pytorch) (4.6.3)\r\n",
      "Requirement already satisfied: sympy in /opt/conda/lib/python3.10/site-packages (from torch->efficientnet_pytorch) (1.12)\r\n",
      "Requirement already satisfied: networkx in /opt/conda/lib/python3.10/site-packages (from torch->efficientnet_pytorch) (3.1)\r\n",
      "Requirement already satisfied: jinja2 in /opt/conda/lib/python3.10/site-packages (from torch->efficientnet_pytorch) (3.1.2)\r\n",
      "Requirement already satisfied: MarkupSafe>=2.0 in /opt/conda/lib/python3.10/site-packages (from jinja2->torch->efficientnet_pytorch) (2.1.3)\r\n",
      "Requirement already satisfied: mpmath>=0.19 in /opt/conda/lib/python3.10/site-packages (from sympy->torch->efficientnet_pytorch) (1.3.0)\r\n",
      "Building wheels for collected packages: efficientnet_pytorch\r\n",
      "  Building wheel for efficientnet_pytorch (setup.py) ... \u001b[?25l-\b \bdone\r\n",
      "\u001b[?25h  Created wheel for efficientnet_pytorch: filename=efficientnet_pytorch-0.7.1-py3-none-any.whl size=16427 sha256=9f0165b9a692acc9f945284200d771879480fadf6367add55e39d9211c84302f\r\n",
      "  Stored in directory: /root/.cache/pip/wheels/03/3f/e9/911b1bc46869644912bda90a56bcf7b960f20b5187feea3baf\r\n",
      "Successfully built efficientnet_pytorch\r\n",
      "Installing collected packages: efficientnet_pytorch\r\n",
      "Successfully installed efficientnet_pytorch-0.7.1\r\n"
     ]
    },
    {
     "name": "stderr",
     "output_type": "stream",
     "text": [
      "/opt/conda/lib/python3.10/site-packages/scipy/__init__.py:146: UserWarning: A NumPy version >=1.16.5 and <1.23.0 is required for this version of SciPy (detected version 1.23.5\n",
      "  warnings.warn(f\"A NumPy version >={np_minversion} and <{np_maxversion}\"\n"
     ]
    }
   ],
   "source": [
    "!pip install efficientnet_pytorch\n",
    "import numpy as np\n",
    "import pandas as pd\n",
    "import matplotlib.pyplot as plt\n",
    "import os\n",
    "from PIL import Image\n",
    "import torch\n",
    "from torch import nn, optim\n",
    "import torch.nn.functional as F\n",
    "from torch.utils.data import Dataset, DataLoader, WeightedRandomSampler\n",
    "import albumentations as A\n",
    "from albumentations.pytorch import ToTensorV2\n",
    "from tqdm import tqdm\n",
    "import torchvision.models as models\n",
    "from efficientnet_pytorch import EfficientNet\n",
    "from sklearn import metrics"
   ]
  },
  {
   "cell_type": "code",
   "execution_count": null,
   "id": "420050de",
   "metadata": {
    "execution": {
     "iopub.execute_input": "2023-10-30T14:06:30.621721Z",
     "iopub.status.busy": "2023-10-30T14:06:30.6214Z",
     "iopub.status.idle": "2023-10-30T14:06:30.628645Z",
     "shell.execute_reply": "2023-10-30T14:06:30.627898Z",
     "shell.execute_reply.started": "2023-10-30T14:06:30.621691Z"
    },
    "papermill": {
     "duration": 0.004882,
     "end_time": "2023-11-01T18:44:14.254934",
     "exception": false,
     "start_time": "2023-11-01T18:44:14.250052",
     "status": "completed"
    },
    "tags": []
   },
   "outputs": [],
   "source": []
  },
  {
   "cell_type": "code",
   "execution_count": 2,
   "id": "3e8e540a",
   "metadata": {
    "execution": {
     "iopub.execute_input": "2023-11-01T18:44:14.266801Z",
     "iopub.status.busy": "2023-11-01T18:44:14.266371Z",
     "iopub.status.idle": "2023-11-01T18:44:14.273178Z",
     "shell.execute_reply": "2023-11-01T18:44:14.272382Z"
    },
    "papermill": {
     "duration": 0.014993,
     "end_time": "2023-11-01T18:44:14.275038",
     "exception": false,
     "start_time": "2023-11-01T18:44:14.260045",
     "status": "completed"
    },
    "tags": []
   },
   "outputs": [],
   "source": [
    "class Dataset(Dataset):\n",
    "    def __init__(self, root_images, root_file, transform = None):\n",
    "        self.root_images= root_images\n",
    "        self.transform  = transform\n",
    "        self.file       = pd.read_csv(root_file)\n",
    "\n",
    "    def __len__(self):\n",
    "        return self.file.shape[0]\n",
    "    \n",
    "    def __getitem__(self, index):\n",
    "        img_path     = os.path.join(self.root_images, self.file['filename'][index])\n",
    "        image        = np.array(Image.open(img_path).convert('RGB'))\n",
    "\n",
    "        if self.transform is not None:\n",
    "            augmentations = self.transform(image=image)\n",
    "            image         = augmentations['image']\n",
    "\n",
    "        return image"
   ]
  },
  {
   "cell_type": "code",
   "execution_count": 3,
   "id": "9421df34",
   "metadata": {
    "execution": {
     "iopub.execute_input": "2023-11-01T18:44:14.285926Z",
     "iopub.status.busy": "2023-11-01T18:44:14.285649Z",
     "iopub.status.idle": "2023-11-01T18:44:14.290301Z",
     "shell.execute_reply": "2023-11-01T18:44:14.289523Z"
    },
    "papermill": {
     "duration": 0.01211,
     "end_time": "2023-11-01T18:44:14.292088",
     "exception": false,
     "start_time": "2023-11-01T18:44:14.279978",
     "status": "completed"
    },
    "tags": []
   },
   "outputs": [],
   "source": [
    "LR    = 1e-4\n",
    "BS    = 16\n",
    "NE    = 100\n",
    "H     = 256+20\n",
    "W     = 300+20\n",
    "\n",
    "num_tta    = 6\n",
    "IMG_Train  = '/kaggle/input/cgiar-eyes-on-the-ground-challenge/content/content/train'\n",
    "IMG_Test   = '/kaggle/input/cgiar-eyes-on-the-ground-challenge/content/content/test'\n",
    "\n",
    "FILE_Train = '/kaggle/input/cgiar-eyes-on-the-ground-challenge/train_folds.csv'\n",
    "FILE_Test  = '/kaggle/input/cgiar-eyes-on-the-ground-challenge/Test.csv'"
   ]
  },
  {
   "cell_type": "code",
   "execution_count": 4,
   "id": "050191c8",
   "metadata": {
    "execution": {
     "iopub.execute_input": "2023-11-01T18:44:14.303369Z",
     "iopub.status.busy": "2023-11-01T18:44:14.302743Z",
     "iopub.status.idle": "2023-11-01T18:44:14.440448Z",
     "shell.execute_reply": "2023-11-01T18:44:14.439659Z"
    },
    "papermill": {
     "duration": 0.145792,
     "end_time": "2023-11-01T18:44:14.442841",
     "exception": false,
     "start_time": "2023-11-01T18:44:14.297049",
     "status": "completed"
    },
    "tags": []
   },
   "outputs": [],
   "source": [
    "train = pd.read_csv(FILE_Train)\n",
    "test = pd.read_csv(FILE_Test)\n",
    "SampleSubmission = pd.read_csv('/kaggle/input/cgiar-eyes-on-the-ground-challenge/SampleSubmission.csv')"
   ]
  },
  {
   "cell_type": "code",
   "execution_count": 5,
   "id": "b875885d",
   "metadata": {
    "execution": {
     "iopub.execute_input": "2023-11-01T18:44:14.454574Z",
     "iopub.status.busy": "2023-11-01T18:44:14.454283Z",
     "iopub.status.idle": "2023-11-01T18:44:14.459261Z",
     "shell.execute_reply": "2023-11-01T18:44:14.458420Z"
    },
    "papermill": {
     "duration": 0.013008,
     "end_time": "2023-11-01T18:44:14.461291",
     "exception": false,
     "start_time": "2023-11-01T18:44:14.448283",
     "status": "completed"
    },
    "tags": []
   },
   "outputs": [],
   "source": [
    "def get_loaders(image_test, image_train, file_test, file_train, bs, transform):\n",
    "\n",
    "    test_ds         = Dataset(root_images=image_test, root_file= file_test, transform=transform)\n",
    "    test_loader     = DataLoader(test_ds, batch_size = bs, shuffle=False)\n",
    "\n",
    "    return  test_loader"
   ]
  },
  {
   "cell_type": "code",
   "execution_count": 6,
   "id": "878c84ed",
   "metadata": {
    "execution": {
     "iopub.execute_input": "2023-11-01T18:44:14.473006Z",
     "iopub.status.busy": "2023-11-01T18:44:14.472383Z",
     "iopub.status.idle": "2023-11-01T18:44:14.478338Z",
     "shell.execute_reply": "2023-11-01T18:44:14.477521Z"
    },
    "papermill": {
     "duration": 0.013716,
     "end_time": "2023-11-01T18:44:14.480176",
     "exception": false,
     "start_time": "2023-11-01T18:44:14.466460",
     "status": "completed"
    },
    "tags": []
   },
   "outputs": [],
   "source": [
    "def tta_augmentations(W, H):\n",
    "    tta_transform = A.Compose(\n",
    "        [\n",
    "            A.Resize(width=W, height=H),\n",
    "            A.HorizontalFlip(p=0.5),\n",
    "            A.Rotate(limit=30),\n",
    "            A.RandomCrop(height=H-20, width=W-20, p=1),\n",
    "            normalize,\n",
    "            ToTensorV2()\n",
    "        ],\n",
    "    )\n",
    "    return tta_transform\n",
    "\n",
    "normalize = A.Normalize(\n",
    "    mean=[0.5, 0.5, 0.5],\n",
    "    std=[0.5, 0.5, 0.5],\n",
    "    max_pixel_value= 255.0\n",
    ")"
   ]
  },
  {
   "cell_type": "code",
   "execution_count": 7,
   "id": "303dad46",
   "metadata": {
    "execution": {
     "iopub.execute_input": "2023-11-01T18:44:14.491639Z",
     "iopub.status.busy": "2023-11-01T18:44:14.490956Z",
     "iopub.status.idle": "2023-11-01T18:44:14.497927Z",
     "shell.execute_reply": "2023-11-01T18:44:14.497026Z"
    },
    "papermill": {
     "duration": 0.01471,
     "end_time": "2023-11-01T18:44:14.499793",
     "exception": false,
     "start_time": "2023-11-01T18:44:14.485083",
     "status": "completed"
    },
    "tags": []
   },
   "outputs": [],
   "source": [
    "def tta_predictions(model, loader, num_tta=4):\n",
    "    model.eval()\n",
    "    k = 0\n",
    "    predictions     = []\n",
    "    predictions_tmp = []\n",
    "    \n",
    "    with torch.no_grad():\n",
    "        for _ in range(num_tta):\n",
    "            for x in tqdm(loader):\n",
    "                x = x.to('cuda').to(torch.float32)\n",
    "                p = model(x)\n",
    "                p = p.cpu().detach().numpy()\n",
    "                predictions_tmp.append(p)\n",
    "            \n",
    "            predictions_tmp = np.vstack(predictions_tmp)\n",
    "            predictions.append(predictions_tmp)\n",
    "            predictions_tmp = []\n",
    "    # Calculate the average of predictions\n",
    "    avg_predictions = np.mean(predictions, axis=0)\n",
    "    return avg_predictions"
   ]
  },
  {
   "cell_type": "code",
   "execution_count": 8,
   "id": "d919ba1d",
   "metadata": {
    "execution": {
     "iopub.execute_input": "2023-11-01T18:44:14.510745Z",
     "iopub.status.busy": "2023-11-01T18:44:14.510476Z",
     "iopub.status.idle": "2023-11-01T18:44:14.514694Z",
     "shell.execute_reply": "2023-11-01T18:44:14.513955Z"
    },
    "papermill": {
     "duration": 0.011714,
     "end_time": "2023-11-01T18:44:14.516535",
     "exception": false,
     "start_time": "2023-11-01T18:44:14.504821",
     "status": "completed"
    },
    "tags": []
   },
   "outputs": [],
   "source": [
    "def load_checkpoint(checkpoint, model, optimizer):\n",
    "    print(\"=> Loading checkpoint\")\n",
    "    model.load_state_dict(checkpoint['state_dict'])\n",
    "    optimizer.load_state_dict(checkpoint['optimizer'])"
   ]
  },
  {
   "cell_type": "code",
   "execution_count": 9,
   "id": "f7a6a10c",
   "metadata": {
    "execution": {
     "iopub.execute_input": "2023-11-01T18:44:14.527370Z",
     "iopub.status.busy": "2023-11-01T18:44:14.527111Z",
     "iopub.status.idle": "2023-11-01T18:44:14.550483Z",
     "shell.execute_reply": "2023-11-01T18:44:14.549818Z"
    },
    "papermill": {
     "duration": 0.03102,
     "end_time": "2023-11-01T18:44:14.552455",
     "exception": false,
     "start_time": "2023-11-01T18:44:14.521435",
     "status": "completed"
    },
    "tags": []
   },
   "outputs": [],
   "source": [
    "Test               = pd.read_csv('/kaggle/input/cgiar-eyes-on-the-ground-challenge/Test.csv')\n",
    "Test['extent']  = 0"
   ]
  },
  {
   "cell_type": "code",
   "execution_count": 10,
   "id": "86707f0b",
   "metadata": {
    "execution": {
     "iopub.execute_input": "2023-11-01T18:44:14.563832Z",
     "iopub.status.busy": "2023-11-01T18:44:14.563563Z",
     "iopub.status.idle": "2023-11-01T18:44:14.568933Z",
     "shell.execute_reply": "2023-11-01T18:44:14.568144Z"
    },
    "papermill": {
     "duration": 0.013162,
     "end_time": "2023-11-01T18:44:14.570766",
     "exception": false,
     "start_time": "2023-11-01T18:44:14.557604",
     "status": "completed"
    },
    "tags": []
   },
   "outputs": [],
   "source": [
    "class Net(nn.Module):\n",
    "    def __init__(self):\n",
    "        super(Net, self).__init__()\n",
    "        self.modelA = EfficientNet.from_pretrained(\"efficientnet-b5\")\n",
    "        self.fc1 = nn.Linear(1000, 1)\n",
    "\n",
    "        self.relu = nn.ReLU()\n",
    "        \n",
    "    def forward(self, img):\n",
    "        x = self.modelA(img)\n",
    "        x = self.fc1(x)\n",
    "        return self.relu(x)"
   ]
  },
  {
   "cell_type": "code",
   "execution_count": 11,
   "id": "5f144639",
   "metadata": {
    "execution": {
     "iopub.execute_input": "2023-11-01T18:44:14.581612Z",
     "iopub.status.busy": "2023-11-01T18:44:14.581351Z",
     "iopub.status.idle": "2023-11-01T19:46:35.959720Z",
     "shell.execute_reply": "2023-11-01T19:46:35.958942Z"
    },
    "papermill": {
     "duration": 3741.385914,
     "end_time": "2023-11-01T19:46:35.961616",
     "exception": false,
     "start_time": "2023-11-01T18:44:14.575702",
     "status": "completed"
    },
    "tags": []
   },
   "outputs": [
    {
     "name": "stdout",
     "output_type": "stream",
     "text": [
      " --------------------------------------------------- Fold: 0\n"
     ]
    },
    {
     "name": "stderr",
     "output_type": "stream",
     "text": [
      "Downloading: \"https://github.com/lukemelas/EfficientNet-PyTorch/releases/download/1.0/efficientnet-b5-b6417697.pth\" to /root/.cache/torch/hub/checkpoints/efficientnet-b5-b6417697.pth\n",
      "100%|██████████| 117M/117M [00:00<00:00, 301MB/s] \n"
     ]
    },
    {
     "name": "stdout",
     "output_type": "stream",
     "text": [
      "Loaded pretrained weights for efficientnet-b5\n",
      "=> Loading checkpoint\n"
     ]
    },
    {
     "name": "stderr",
     "output_type": "stream",
     "text": [
      "100%|██████████| 542/542 [05:31<00:00,  1.63it/s]\n",
      "100%|██████████| 542/542 [03:50<00:00,  2.35it/s]\n",
      "100%|██████████| 542/542 [03:55<00:00,  2.31it/s]\n",
      "100%|██████████| 542/542 [03:37<00:00,  2.50it/s]\n",
      "100%|██████████| 542/542 [03:50<00:00,  2.35it/s]\n",
      "100%|██████████| 542/542 [03:44<00:00,  2.42it/s]\n",
      "100%|██████████| 542/542 [03:48<00:00,  2.37it/s]\n",
      "100%|██████████| 542/542 [03:51<00:00,  2.35it/s]\n",
      "100%|██████████| 542/542 [03:50<00:00,  2.35it/s]\n",
      "100%|██████████| 542/542 [03:46<00:00,  2.40it/s]\n",
      "100%|██████████| 542/542 [03:38<00:00,  2.49it/s]\n",
      "100%|██████████| 542/542 [03:49<00:00,  2.36it/s]\n",
      "100%|██████████| 542/542 [03:38<00:00,  2.48it/s]\n",
      "100%|██████████| 542/542 [03:46<00:00,  2.39it/s]\n",
      "100%|██████████| 542/542 [03:44<00:00,  2.41it/s]\n",
      "100%|██████████| 542/542 [03:50<00:00,  2.35it/s]\n",
      "/tmp/ipykernel_27/142964871.py:18: SettingWithCopyWarning: \n",
      "A value is trying to be set on a copy of a slice from a DataFrame\n",
      "\n",
      "See the caveats in the documentation: https://pandas.pydata.org/pandas-docs/stable/user_guide/indexing.html#returning-a-view-versus-a-copy\n",
      "  Test['extent'][k] = avg_predictions[i]\n",
      "/tmp/ipykernel_27/142964871.py:18: SettingWithCopyWarning: \n",
      "A value is trying to be set on a copy of a slice from a DataFrame\n",
      "\n",
      "See the caveats in the documentation: https://pandas.pydata.org/pandas-docs/stable/user_guide/indexing.html#returning-a-view-versus-a-copy\n",
      "  Test['extent'][k] = avg_predictions[i]\n",
      "/tmp/ipykernel_27/142964871.py:18: SettingWithCopyWarning: \n",
      "A value is trying to be set on a copy of a slice from a DataFrame\n",
      "\n",
      "See the caveats in the documentation: https://pandas.pydata.org/pandas-docs/stable/user_guide/indexing.html#returning-a-view-versus-a-copy\n",
      "  Test['extent'][k] = avg_predictions[i]\n",
      "/tmp/ipykernel_27/142964871.py:18: SettingWithCopyWarning: \n",
      "A value is trying to be set on a copy of a slice from a DataFrame\n",
      "\n",
      "See the caveats in the documentation: https://pandas.pydata.org/pandas-docs/stable/user_guide/indexing.html#returning-a-view-versus-a-copy\n",
      "  Test['extent'][k] = avg_predictions[i]\n",
      "/tmp/ipykernel_27/142964871.py:18: SettingWithCopyWarning: \n",
      "A value is trying to be set on a copy of a slice from a DataFrame\n",
      "\n",
      "See the caveats in the documentation: https://pandas.pydata.org/pandas-docs/stable/user_guide/indexing.html#returning-a-view-versus-a-copy\n",
      "  Test['extent'][k] = avg_predictions[i]\n"
     ]
    }
   ],
   "source": [
    "transform = tta_augmentations(W, H)\n",
    "for fold in range(1):\n",
    "    print(' --------------------------------------------------- Fold: ' +str(fold))\n",
    "    model     = Net().to('cuda')\n",
    "    optimizer = optim.Adam(model.parameters(), lr = LR)\n",
    "    CHECKPOINT_FILE = '/kaggle/input/icgiar-eyes-on-the-ground-train-v1-eff-b3/baseline_0.pth.tar'\n",
    "    \n",
    "    test_loader = get_loaders(\n",
    "        IMG_Test, IMG_Train, FILE_Test, FILE_Train, BS, transform\n",
    "    )\n",
    "    load_checkpoint(torch.load(CHECKPOINT_FILE), model, optimizer)\n",
    "    \n",
    "    avg_predictions = tta_predictions(model, test_loader, num_tta)\n",
    "\n",
    "    k = 0\n",
    "    avg_predictions = avg_predictions.flatten()\n",
    "    for i in range(len(avg_predictions)):\n",
    "        Test['extent'][k] = avg_predictions[i]\n",
    "        k += 1"
   ]
  },
  {
   "cell_type": "code",
   "execution_count": 12,
   "id": "b8c849f8",
   "metadata": {
    "execution": {
     "iopub.execute_input": "2023-11-01T19:46:37.335908Z",
     "iopub.status.busy": "2023-11-01T19:46:37.335017Z",
     "iopub.status.idle": "2023-11-01T19:46:37.345392Z",
     "shell.execute_reply": "2023-11-01T19:46:37.344462Z"
    },
    "papermill": {
     "duration": 0.678736,
     "end_time": "2023-11-01T19:46:37.347304",
     "exception": false,
     "start_time": "2023-11-01T19:46:36.668568",
     "status": "completed"
    },
    "tags": []
   },
   "outputs": [],
   "source": [
    "Test = Test[['ID', 'extent']]"
   ]
  },
  {
   "cell_type": "code",
   "execution_count": 13,
   "id": "35300c23",
   "metadata": {
    "execution": {
     "iopub.execute_input": "2023-11-01T19:46:38.652602Z",
     "iopub.status.busy": "2023-11-01T19:46:38.652272Z",
     "iopub.status.idle": "2023-11-01T19:46:38.685580Z",
     "shell.execute_reply": "2023-11-01T19:46:38.684864Z"
    },
    "papermill": {
     "duration": 0.682268,
     "end_time": "2023-11-01T19:46:38.687551",
     "exception": false,
     "start_time": "2023-11-01T19:46:38.005283",
     "status": "completed"
    },
    "tags": []
   },
   "outputs": [],
   "source": [
    "Test.to_csv('Test_extent.csv', index=False)\n"
   ]
  },
  {
   "cell_type": "code",
   "execution_count": null,
   "id": "7bb25a1b",
   "metadata": {
    "papermill": {
     "duration": 0.649625,
     "end_time": "2023-11-01T19:46:40.043026",
     "exception": false,
     "start_time": "2023-11-01T19:46:39.393401",
     "status": "completed"
    },
    "tags": []
   },
   "outputs": [],
   "source": []
  }
 ],
 "metadata": {
  "kernelspec": {
   "display_name": "Python 3",
   "language": "python",
   "name": "python3"
  },
  "language_info": {
   "codemirror_mode": {
    "name": "ipython",
    "version": 3
   },
   "file_extension": ".py",
   "mimetype": "text/x-python",
   "name": "python",
   "nbconvert_exporter": "python",
   "pygments_lexer": "ipython3",
   "version": "3.10.12"
  },
  "papermill": {
   "default_parameters": {},
   "duration": 3772.592419,
   "end_time": "2023-11-01T19:46:43.317959",
   "environment_variables": {},
   "exception": null,
   "input_path": "__notebook__.ipynb",
   "output_path": "__notebook__.ipynb",
   "parameters": {},
   "start_time": "2023-11-01T18:43:50.725540",
   "version": "2.4.0"
  }
 },
 "nbformat": 4,
 "nbformat_minor": 5
}
