{
 "cells": [
  {
   "cell_type": "code",
   "execution_count": 1,
   "id": "1f3dea9b",
   "metadata": {
    "_cell_guid": "b1076dfc-b9ad-4769-8c92-a6c4dae69d19",
    "_uuid": "8f2839f25d086af736a60e9eeb907d3b93b6e0e5",
    "execution": {
     "iopub.execute_input": "2023-10-17T20:36:15.785711Z",
     "iopub.status.busy": "2023-10-17T20:36:15.785430Z",
     "iopub.status.idle": "2023-10-17T20:36:33.064696Z",
     "shell.execute_reply": "2023-10-17T20:36:33.064014Z"
    },
    "papermill": {
     "duration": 17.285756,
     "end_time": "2023-10-17T20:36:33.066640",
     "exception": false,
     "start_time": "2023-10-17T20:36:15.780884",
     "status": "completed"
    },
    "tags": []
   },
   "outputs": [
    {
     "name": "stdout",
     "output_type": "stream",
     "text": [
      "Collecting efficientnet_pytorch\r\n",
      "  Downloading efficientnet_pytorch-0.7.1.tar.gz (21 kB)\r\n",
      "  Preparing metadata (setup.py) ... \u001b[?25ldone\r\n",
      "\u001b[?25hRequirement already satisfied: torch in /opt/conda/lib/python3.10/site-packages (from efficientnet_pytorch) (2.0.0)\r\n",
      "Requirement already satisfied: filelock in /opt/conda/lib/python3.10/site-packages (from torch->efficientnet_pytorch) (3.12.2)\r\n",
      "Requirement already satisfied: typing-extensions in /opt/conda/lib/python3.10/site-packages (from torch->efficientnet_pytorch) (4.6.3)\r\n",
      "Requirement already satisfied: sympy in /opt/conda/lib/python3.10/site-packages (from torch->efficientnet_pytorch) (1.12)\r\n",
      "Requirement already satisfied: networkx in /opt/conda/lib/python3.10/site-packages (from torch->efficientnet_pytorch) (3.1)\r\n",
      "Requirement already satisfied: jinja2 in /opt/conda/lib/python3.10/site-packages (from torch->efficientnet_pytorch) (3.1.2)\r\n",
      "Requirement already satisfied: MarkupSafe>=2.0 in /opt/conda/lib/python3.10/site-packages (from jinja2->torch->efficientnet_pytorch) (2.1.3)\r\n",
      "Requirement already satisfied: mpmath>=0.19 in /opt/conda/lib/python3.10/site-packages (from sympy->torch->efficientnet_pytorch) (1.3.0)\r\n",
      "Building wheels for collected packages: efficientnet_pytorch\r\n",
      "  Building wheel for efficientnet_pytorch (setup.py) ... \u001b[?25l-\b \bdone\r\n",
      "\u001b[?25h  Created wheel for efficientnet_pytorch: filename=efficientnet_pytorch-0.7.1-py3-none-any.whl size=16427 sha256=f703d1a9e8d2b69aa64b78740c43a0054223f55ed5ec8316d8e9b15e0009e82a\r\n",
      "  Stored in directory: /root/.cache/pip/wheels/03/3f/e9/911b1bc46869644912bda90a56bcf7b960f20b5187feea3baf\r\n",
      "Successfully built efficientnet_pytorch\r\n",
      "Installing collected packages: efficientnet_pytorch\r\n",
      "Successfully installed efficientnet_pytorch-0.7.1\r\n"
     ]
    },
    {
     "name": "stderr",
     "output_type": "stream",
     "text": [
      "/opt/conda/lib/python3.10/site-packages/scipy/__init__.py:146: UserWarning: A NumPy version >=1.16.5 and <1.23.0 is required for this version of SciPy (detected version 1.23.5\n",
      "  warnings.warn(f\"A NumPy version >={np_minversion} and <{np_maxversion}\"\n"
     ]
    }
   ],
   "source": [
    "!pip install efficientnet_pytorch\n",
    "\n",
    "import numpy as np\n",
    "import pandas as pd\n",
    "import matplotlib.pyplot as plt\n",
    "import os\n",
    "from PIL import Image\n",
    "import torch\n",
    "from torch import nn, optim\n",
    "import torch.nn.functional as F\n",
    "from torch.utils.data import Dataset, DataLoader, WeightedRandomSampler\n",
    "import albumentations as A\n",
    "from albumentations.pytorch import ToTensorV2\n",
    "from tqdm import tqdm\n",
    "import torchvision.models as models\n",
    "from efficientnet_pytorch import EfficientNet\n",
    "from sklearn import metrics"
   ]
  },
  {
   "cell_type": "code",
   "execution_count": 2,
   "id": "175b7648",
   "metadata": {
    "execution": {
     "iopub.execute_input": "2023-10-17T20:36:33.074720Z",
     "iopub.status.busy": "2023-10-17T20:36:33.074066Z",
     "iopub.status.idle": "2023-10-17T20:36:33.078096Z",
     "shell.execute_reply": "2023-10-17T20:36:33.077458Z"
    },
    "papermill": {
     "duration": 0.009434,
     "end_time": "2023-10-17T20:36:33.079541",
     "exception": false,
     "start_time": "2023-10-17T20:36:33.070107",
     "status": "completed"
    },
    "tags": []
   },
   "outputs": [],
   "source": [
    "def seed_everything(seed=42):\n",
    "    #random.seed(seed)\n",
    "    os.environ['PYTHONASSEED'] = str(seed)\n",
    "    np.random.seed(seed)\n",
    "    torch.manual_seed(seed)\n",
    "    torch.cuda.manual_seed(seed)\n",
    "    torch.backends.cudnn.deterministic = True\n",
    "    torch.backends.cudnn.benchmark = True"
   ]
  },
  {
   "cell_type": "code",
   "execution_count": 3,
   "id": "03a60eb5",
   "metadata": {
    "execution": {
     "iopub.execute_input": "2023-10-17T20:36:33.086483Z",
     "iopub.status.busy": "2023-10-17T20:36:33.086278Z",
     "iopub.status.idle": "2023-10-17T20:36:33.093407Z",
     "shell.execute_reply": "2023-10-17T20:36:33.092806Z"
    },
    "papermill": {
     "duration": 0.012146,
     "end_time": "2023-10-17T20:36:33.094718",
     "exception": false,
     "start_time": "2023-10-17T20:36:33.082572",
     "status": "completed"
    },
    "tags": []
   },
   "outputs": [],
   "source": [
    "class Dataset(Dataset):\n",
    "    def __init__(self, root_images, root_file, mode, fold, transform=None):\n",
    "        self.root_images = root_images\n",
    "        self.transform = transform\n",
    "        self.root_file = root_file\n",
    "\n",
    "        if mode == 'train':\n",
    "            self.file = pd.read_csv(self.root_file)[pd.read_csv(self.root_file)['fold'] != fold]\n",
    "            result    = pd.concat([self.file, self.file[self.file['extent']!=0]])\n",
    "            self.file = pd.concat([result, self.file[self.file['extent']!=0]]).reset_index(drop=True)\n",
    "            \n",
    "        else:\n",
    "            self.file = pd.read_csv(self.root_file)[pd.read_csv(self.root_file)['fold'] == fold].reset_index(drop=True)\n",
    "    \n",
    "\n",
    "    def __len__(self):\n",
    "        return self.file.shape[0]\n",
    "    \n",
    "    def __getitem__(self, index):\n",
    "        img_path     = os.path.join(self.root_images, self.file['filename'][index])\n",
    "        image        = np.array(Image.open(img_path).convert('RGB'))\n",
    "        label        = self.file['extent'][index]\n",
    "\n",
    "        if self.transform is not None:\n",
    "            augmentations = self.transform(image=image)\n",
    "            image         = augmentations['image']\n",
    "\n",
    "        return image,  torch.tensor(label)"
   ]
  },
  {
   "cell_type": "code",
   "execution_count": 4,
   "id": "3a447207",
   "metadata": {
    "execution": {
     "iopub.execute_input": "2023-10-17T20:36:33.103703Z",
     "iopub.status.busy": "2023-10-17T20:36:33.103281Z",
     "iopub.status.idle": "2023-10-17T20:36:33.106786Z",
     "shell.execute_reply": "2023-10-17T20:36:33.106090Z"
    },
    "papermill": {
     "duration": 0.010645,
     "end_time": "2023-10-17T20:36:33.108372",
     "exception": false,
     "start_time": "2023-10-17T20:36:33.097727",
     "status": "completed"
    },
    "tags": []
   },
   "outputs": [],
   "source": [
    "LR    = 1e-4\n",
    "BS    = 16\n",
    "NE    = 100\n",
    "H     = 256+20\n",
    "W     = 300+20\n",
    "\n",
    "IMG_Train  = '/kaggle/input/cgiar-eyes-on-the-ground-challenge/content/content/train'\n",
    "IMG_Test   = '/kaggle/input/cgiar-eyes-on-the-ground-challenge/content/content/test'\n",
    "\n",
    "FILE_Train = '/kaggle/input/cgiar-eyes-on-the-ground-challenge/train_folds.csv'\n",
    "FILE_Test  = '/kaggle/input/cgiar-eyes-on-the-ground-challenge/Test.csv'"
   ]
  },
  {
   "cell_type": "code",
   "execution_count": 5,
   "id": "f3bafae5",
   "metadata": {
    "execution": {
     "iopub.execute_input": "2023-10-17T20:36:33.115181Z",
     "iopub.status.busy": "2023-10-17T20:36:33.114972Z",
     "iopub.status.idle": "2023-10-17T20:36:33.238890Z",
     "shell.execute_reply": "2023-10-17T20:36:33.238233Z"
    },
    "papermill": {
     "duration": 0.129338,
     "end_time": "2023-10-17T20:36:33.240723",
     "exception": false,
     "start_time": "2023-10-17T20:36:33.111385",
     "status": "completed"
    },
    "tags": []
   },
   "outputs": [],
   "source": [
    "train = pd.read_csv(FILE_Train)\n",
    "test = pd.read_csv(FILE_Test)\n",
    "SampleSubmission = pd.read_csv('/kaggle/input/cgiar-eyes-on-the-ground-challenge/SampleSubmission.csv')"
   ]
  },
  {
   "cell_type": "code",
   "execution_count": 6,
   "id": "bbab893f",
   "metadata": {
    "execution": {
     "iopub.execute_input": "2023-10-17T20:36:33.248609Z",
     "iopub.status.busy": "2023-10-17T20:36:33.248096Z",
     "iopub.status.idle": "2023-10-17T20:36:33.253539Z",
     "shell.execute_reply": "2023-10-17T20:36:33.252905Z"
    },
    "papermill": {
     "duration": 0.010708,
     "end_time": "2023-10-17T20:36:33.254959",
     "exception": false,
     "start_time": "2023-10-17T20:36:33.244251",
     "status": "completed"
    },
    "tags": []
   },
   "outputs": [],
   "source": [
    "def get_loaders(image, file, fold, bs, train_transform, val_transform):\n",
    "    \n",
    "    train_ds      = Dataset(root_images=image, root_file=file, mode='train', fold=fold, transform=train_transform )\n",
    "    train_loader  = DataLoader(train_ds, batch_size=bs, shuffle=True)\n",
    "\n",
    "    val_ds        = Dataset(root_images=image, root_file= file, mode='val', fold=fold, transform=val_transform )\n",
    "    val_loader    = DataLoader(val_ds, batch_size = bs, shuffle=False)\n",
    "\n",
    "    return train_loader, val_loader"
   ]
  },
  {
   "cell_type": "code",
   "execution_count": 7,
   "id": "5c43547c",
   "metadata": {
    "execution": {
     "iopub.execute_input": "2023-10-17T20:36:33.261770Z",
     "iopub.status.busy": "2023-10-17T20:36:33.261547Z",
     "iopub.status.idle": "2023-10-17T20:36:33.266537Z",
     "shell.execute_reply": "2023-10-17T20:36:33.265894Z"
    },
    "papermill": {
     "duration": 0.010132,
     "end_time": "2023-10-17T20:36:33.268025",
     "exception": false,
     "start_time": "2023-10-17T20:36:33.257893",
     "status": "completed"
    },
    "tags": []
   },
   "outputs": [],
   "source": [
    "normalize = A.Normalize(\n",
    "    mean=[0.5, 0.5, 0.5], \n",
    "    std = [0.5, 0.5, 0.5], \n",
    "  #  max_pixel_value= 255.0\n",
    ")\n",
    "\n",
    "def aug_1():\n",
    "    train_transform = A.Compose(\n",
    "        [\n",
    "            A.Resize(width=W, height=H),\n",
    "            A.HorizontalFlip(p=0.5),\n",
    "            A.Rotate(limit=30),\n",
    "            A.RandomCrop(height=H-20, width=W-20, p=1),\n",
    "            normalize,\n",
    "            ToTensorV2()\n",
    "        ],\n",
    "    )\n",
    "\n",
    "    val_transform = A.Compose(\n",
    "        [\n",
    "            A.Resize(width=W, height=H),\n",
    "            normalize,\n",
    "            ToTensorV2()\n",
    "        ],\n",
    "    )\n",
    "    return train_transform, val_transform\n",
    "        \n",
    "train_transform, val_transform = aug_1()"
   ]
  },
  {
   "cell_type": "code",
   "execution_count": 8,
   "id": "f5522588",
   "metadata": {
    "execution": {
     "iopub.execute_input": "2023-10-17T20:36:33.274872Z",
     "iopub.status.busy": "2023-10-17T20:36:33.274667Z",
     "iopub.status.idle": "2023-10-17T20:36:33.279446Z",
     "shell.execute_reply": "2023-10-17T20:36:33.278740Z"
    },
    "papermill": {
     "duration": 0.009812,
     "end_time": "2023-10-17T20:36:33.280894",
     "exception": false,
     "start_time": "2023-10-17T20:36:33.271082",
     "status": "completed"
    },
    "tags": []
   },
   "outputs": [],
   "source": [
    "def check_loader():\n",
    "    train_loader, val_loader = get_loaders(\n",
    "            IMG_Train, FILE_Train, 1, BS, train_transform, val_transform\n",
    "        )\n",
    "    image, y = next(iter(train_loader))\n",
    "    print(image.shape, y.shape)\n",
    "\n",
    "    plt.figure(figsize=(10, 10))\n",
    "    for i in range(9):\n",
    "        ax = plt.subplot(3, 3, i + 1)\n",
    "        plt.imshow(((image[i]+1)/2).permute(1,2,0))\n",
    "        plt.axis(\"off\")\n",
    "        name = y[i].item()\n",
    "        ax.set_title(name)\n",
    "#check_loader()"
   ]
  },
  {
   "cell_type": "code",
   "execution_count": 9,
   "id": "1164c053",
   "metadata": {
    "execution": {
     "iopub.execute_input": "2023-10-17T20:36:33.288031Z",
     "iopub.status.busy": "2023-10-17T20:36:33.287655Z",
     "iopub.status.idle": "2023-10-17T20:36:33.292175Z",
     "shell.execute_reply": "2023-10-17T20:36:33.291635Z"
    },
    "papermill": {
     "duration": 0.009925,
     "end_time": "2023-10-17T20:36:33.293847",
     "exception": false,
     "start_time": "2023-10-17T20:36:33.283922",
     "status": "completed"
    },
    "tags": []
   },
   "outputs": [],
   "source": [
    "class Net(nn.Module):\n",
    "    def __init__(self):\n",
    "        super(Net, self).__init__()\n",
    "        self.modelA = EfficientNet.from_pretrained(\"efficientnet-b5\")\n",
    "        self.fc1 = nn.Linear(1000, 1)\n",
    "\n",
    "        self.relu = nn.ReLU()\n",
    "        \n",
    "    def forward(self, img):\n",
    "        x = self.modelA(img)\n",
    "        x = self.fc1(x)\n",
    "        return self.relu(x)\n",
    "\n",
    "#x = torch.randn(4,3,224,192)\n",
    "#m = Net()\n",
    "#m(x)"
   ]
  },
  {
   "cell_type": "code",
   "execution_count": 10,
   "id": "5bb8ec81",
   "metadata": {
    "execution": {
     "iopub.execute_input": "2023-10-17T20:36:33.301132Z",
     "iopub.status.busy": "2023-10-17T20:36:33.300715Z",
     "iopub.status.idle": "2023-10-17T20:36:33.305418Z",
     "shell.execute_reply": "2023-10-17T20:36:33.304749Z"
    },
    "papermill": {
     "duration": 0.009734,
     "end_time": "2023-10-17T20:36:33.306820",
     "exception": false,
     "start_time": "2023-10-17T20:36:33.297086",
     "status": "completed"
    },
    "tags": []
   },
   "outputs": [],
   "source": [
    "def check_acc(loader, model, loss_fn):\n",
    "    error = 0\n",
    "    model.eval()\n",
    "    with torch.no_grad():\n",
    "        for x, y in tqdm(loader):\n",
    "            x     = x.to('cuda').to(torch.float32)\n",
    "            y     = y.to(torch.float32).unsqueeze(1)\n",
    "\n",
    "            p     =  model(x).cpu()\n",
    "            error += metrics.mean_squared_error(y, p, squared=False)\n",
    "            \n",
    "        print('RMSE : '+ str(error/len(loader)))\n",
    "    model.train()\n",
    "    return error/len(loader)\n",
    "\n",
    "def save_checkpoint(state, filename):\n",
    "    print('--> Saving Checkpoint')\n",
    "    torch.save(state, filename)"
   ]
  },
  {
   "cell_type": "code",
   "execution_count": 11,
   "id": "191f626c",
   "metadata": {
    "execution": {
     "iopub.execute_input": "2023-10-17T20:36:33.314036Z",
     "iopub.status.busy": "2023-10-17T20:36:33.313489Z",
     "iopub.status.idle": "2023-10-17T20:36:33.317617Z",
     "shell.execute_reply": "2023-10-17T20:36:33.317047Z"
    },
    "papermill": {
     "duration": 0.009252,
     "end_time": "2023-10-17T20:36:33.319061",
     "exception": false,
     "start_time": "2023-10-17T20:36:33.309809",
     "status": "completed"
    },
    "tags": []
   },
   "outputs": [],
   "source": [
    "def train_fn(loader, model, optimizer, loss_fn):\n",
    "    for x, y in tqdm(loader):\n",
    "        x     = x.to('cuda').to(torch.float32)\n",
    "        y     = y.to('cuda').to(torch.float32).unsqueeze(1)\n",
    "\n",
    "        # Forward\n",
    "        scores = model(x)\n",
    "        loss   = loss_fn(scores, y.float())\n",
    "        # Backward\n",
    "        model.zero_grad()\n",
    "        loss.backward()\n",
    "        optimizer.step()"
   ]
  },
  {
   "cell_type": "code",
   "execution_count": 12,
   "id": "8496de9a",
   "metadata": {
    "execution": {
     "iopub.execute_input": "2023-10-17T20:36:33.326304Z",
     "iopub.status.busy": "2023-10-17T20:36:33.325861Z",
     "iopub.status.idle": "2023-10-18T00:19:11.050808Z",
     "shell.execute_reply": "2023-10-18T00:19:11.049877Z"
    },
    "papermill": {
     "duration": 13357.730279,
     "end_time": "2023-10-18T00:19:11.052429",
     "exception": false,
     "start_time": "2023-10-17T20:36:33.322150",
     "status": "completed"
    },
    "tags": []
   },
   "outputs": [
    {
     "name": "stdout",
     "output_type": "stream",
     "text": [
      " --------------------------------------------------- Fold: 0\n"
     ]
    },
    {
     "name": "stderr",
     "output_type": "stream",
     "text": [
      "Downloading: \"https://github.com/lukemelas/EfficientNet-PyTorch/releases/download/1.0/efficientnet-b5-b6417697.pth\" to /root/.cache/torch/hub/checkpoints/efficientnet-b5-b6417697.pth\n",
      "100%|██████████| 117M/117M [00:01<00:00, 80.9MB/s]\n"
     ]
    },
    {
     "name": "stdout",
     "output_type": "stream",
     "text": [
      "Loaded pretrained weights for efficientnet-b5\n",
      " ----------------------------- Epoch: 0\n"
     ]
    },
    {
     "name": "stderr",
     "output_type": "stream",
     "text": [
      "100%|██████████| 1750/1750 [20:52<00:00,  1.40it/s]\n",
      "100%|██████████| 326/326 [03:13<00:00,  1.69it/s]\n"
     ]
    },
    {
     "name": "stdout",
     "output_type": "stream",
     "text": [
      "RMSE : 11.405298395756564\n",
      "--> Saving Checkpoint\n",
      " ----------------------------- Epoch: 1\n"
     ]
    },
    {
     "name": "stderr",
     "output_type": "stream",
     "text": [
      "100%|██████████| 1750/1750 [17:36<00:00,  1.66it/s]\n",
      "100%|██████████| 326/326 [02:25<00:00,  2.24it/s]\n"
     ]
    },
    {
     "name": "stdout",
     "output_type": "stream",
     "text": [
      "RMSE : 11.20744001463147\n",
      "--> Saving Checkpoint\n",
      " ----------------------------- Epoch: 2\n"
     ]
    },
    {
     "name": "stderr",
     "output_type": "stream",
     "text": [
      "100%|██████████| 1750/1750 [17:15<00:00,  1.69it/s]\n",
      "100%|██████████| 326/326 [02:23<00:00,  2.27it/s]\n"
     ]
    },
    {
     "name": "stdout",
     "output_type": "stream",
     "text": [
      "RMSE : 10.295813201852372\n",
      "--> Saving Checkpoint\n",
      " ----------------------------- Epoch: 3\n"
     ]
    },
    {
     "name": "stderr",
     "output_type": "stream",
     "text": [
      "100%|██████████| 1750/1750 [17:24<00:00,  1.68it/s]\n",
      "100%|██████████| 326/326 [02:22<00:00,  2.29it/s]\n"
     ]
    },
    {
     "name": "stdout",
     "output_type": "stream",
     "text": [
      "RMSE : 10.844147599913592\n",
      " ----------------------------- Epoch: 4\n"
     ]
    },
    {
     "name": "stderr",
     "output_type": "stream",
     "text": [
      "100%|██████████| 1750/1750 [17:24<00:00,  1.68it/s]\n",
      "100%|██████████| 326/326 [02:23<00:00,  2.26it/s]\n"
     ]
    },
    {
     "name": "stdout",
     "output_type": "stream",
     "text": [
      "RMSE : 10.330097187516149\n",
      " ----------------------------- Epoch: 5\n"
     ]
    },
    {
     "name": "stderr",
     "output_type": "stream",
     "text": [
      "100%|██████████| 1750/1750 [17:26<00:00,  1.67it/s]\n",
      "100%|██████████| 326/326 [02:27<00:00,  2.21it/s]\n"
     ]
    },
    {
     "name": "stdout",
     "output_type": "stream",
     "text": [
      "RMSE : 10.07992531587741\n",
      "--> Saving Checkpoint\n",
      " ----------------------------- Epoch: 6\n"
     ]
    },
    {
     "name": "stderr",
     "output_type": "stream",
     "text": [
      "100%|██████████| 1750/1750 [17:30<00:00,  1.67it/s]\n",
      "100%|██████████| 326/326 [02:23<00:00,  2.27it/s]\n"
     ]
    },
    {
     "name": "stdout",
     "output_type": "stream",
     "text": [
      "RMSE : 10.077259567983312\n",
      "--> Saving Checkpoint\n",
      " ----------------------------- Epoch: 7\n"
     ]
    },
    {
     "name": "stderr",
     "output_type": "stream",
     "text": [
      "100%|██████████| 1750/1750 [17:25<00:00,  1.67it/s]\n",
      "100%|██████████| 326/326 [02:24<00:00,  2.26it/s]\n"
     ]
    },
    {
     "name": "stdout",
     "output_type": "stream",
     "text": [
      "RMSE : 9.89744349180555\n",
      "--> Saving Checkpoint\n",
      " ----------------------------- Epoch: 8\n"
     ]
    },
    {
     "name": "stderr",
     "output_type": "stream",
     "text": [
      "100%|██████████| 1750/1750 [17:19<00:00,  1.68it/s]\n",
      "100%|██████████| 326/326 [02:22<00:00,  2.29it/s]\n"
     ]
    },
    {
     "name": "stdout",
     "output_type": "stream",
     "text": [
      "RMSE : 10.08334189379142\n",
      " ----------------------------- Epoch: 9\n"
     ]
    },
    {
     "name": "stderr",
     "output_type": "stream",
     "text": [
      "100%|██████████| 1750/1750 [17:30<00:00,  1.67it/s]\n",
      "100%|██████████| 326/326 [02:22<00:00,  2.29it/s]\n"
     ]
    },
    {
     "name": "stdout",
     "output_type": "stream",
     "text": [
      "RMSE : 10.082183516601477\n",
      " ----------------------------- Epoch: 10\n"
     ]
    },
    {
     "name": "stderr",
     "output_type": "stream",
     "text": [
      "100%|██████████| 1750/1750 [17:27<00:00,  1.67it/s]\n",
      "100%|██████████| 326/326 [02:23<00:00,  2.27it/s]"
     ]
    },
    {
     "name": "stdout",
     "output_type": "stream",
     "text": [
      "RMSE : 10.294456463375706\n"
     ]
    },
    {
     "name": "stderr",
     "output_type": "stream",
     "text": [
      "\n"
     ]
    }
   ],
   "source": [
    "loss_fn   = nn.MSELoss().to('cuda') \n",
    "\n",
    "for fold in range(1):\n",
    "    print(' --------------------------------------------------- Fold: ' +str(fold))\n",
    "\n",
    "    model     = Net().to('cuda')\n",
    "    optimizer = optim.Adam(model.parameters(), lr = LR)\n",
    "\n",
    "    train_loader, val_loader = get_loaders(\n",
    "        IMG_Train, FILE_Train, fold, BS, train_transform, val_transform\n",
    "    )\n",
    "\n",
    "    l  = 100\n",
    "    es = 0\n",
    "    #check_acc(val_loader, model, loss_fn)\n",
    "\n",
    "    for epoch in range(NE):\n",
    "        print(' ----------------------------- Epoch: ' +str(epoch))\n",
    "        \n",
    "        train_fn(train_loader, model, optimizer, loss_fn)\n",
    "        loss = check_acc(val_loader, model, loss_fn)\n",
    "        if loss < l:\n",
    "            l = loss\n",
    "            checkpoint = {\n",
    "                'state_dict': model.state_dict(),\n",
    "                'optimizer' : optimizer.state_dict()\n",
    "            }\n",
    "            save_checkpoint(checkpoint, filename = 'baseline_' + str(fold)+ '.pth.tar')\n",
    "            es = 0\n",
    "        else:\n",
    "            es += 1\n",
    "        \n",
    "        if es == 3: break"
   ]
  },
  {
   "cell_type": "code",
   "execution_count": null,
   "id": "fa217b99",
   "metadata": {
    "papermill": {
     "duration": 0.9862,
     "end_time": "2023-10-18T00:19:13.203306",
     "exception": false,
     "start_time": "2023-10-18T00:19:12.217106",
     "status": "completed"
    },
    "tags": []
   },
   "outputs": [],
   "source": []
  },
  {
   "cell_type": "code",
   "execution_count": null,
   "id": "3e570868",
   "metadata": {
    "papermill": {
     "duration": 0.967177,
     "end_time": "2023-10-18T00:19:15.236929",
     "exception": false,
     "start_time": "2023-10-18T00:19:14.269752",
     "status": "completed"
    },
    "tags": []
   },
   "outputs": [],
   "source": []
  },
  {
   "cell_type": "code",
   "execution_count": null,
   "id": "ffafa3c1",
   "metadata": {
    "papermill": {
     "duration": 0.9826,
     "end_time": "2023-10-18T00:19:17.293886",
     "exception": false,
     "start_time": "2023-10-18T00:19:16.311286",
     "status": "completed"
    },
    "tags": []
   },
   "outputs": [],
   "source": []
  }
 ],
 "metadata": {
  "kernelspec": {
   "display_name": "Python 3",
   "language": "python",
   "name": "python3"
  },
  "language_info": {
   "codemirror_mode": {
    "name": "ipython",
    "version": 3
   },
   "file_extension": ".py",
   "mimetype": "text/x-python",
   "name": "python",
   "nbconvert_exporter": "python",
   "pygments_lexer": "ipython3",
   "version": "3.10.12"
  },
  "papermill": {
   "default_parameters": {},
   "duration": 13387.991379,
   "end_time": "2023-10-18T00:19:20.757127",
   "environment_variables": {},
   "exception": null,
   "input_path": "__notebook__.ipynb",
   "output_path": "__notebook__.ipynb",
   "parameters": {},
   "start_time": "2023-10-17T20:36:12.765748",
   "version": "2.4.0"
  }
 },
 "nbformat": 4,
 "nbformat_minor": 5
}
